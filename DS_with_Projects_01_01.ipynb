{
 "cells": [
  {
   "cell_type": "markdown",
   "id": "48bb9ecd",
   "metadata": {},
   "source": [
    "# 사이킷런과 머신러닝\n",
    "\n",
    "**사이킷런과 머신러닝**\n",
    "- 사이킷런 소개\n",
    "- 사이킷런 활용 흐름\n",
    "- 사이킷런의 의사결정나무 알고리즘"
   ]
  },
  {
   "cell_type": "markdown",
   "id": "6349132d",
   "metadata": {},
   "source": [
    "## 사이킷런과 머신러닝\n",
    "**이 강좌에서는 머신러닝의 도구로서의 역할을 중점적으로 학습함 (소스코드[1])**\n",
    "\n",
    "**선행하면 좋을 강의**\n",
    "- [edwith] 모두를 위한 프로그래밍 : 파이썬[2]\n",
    "- [부스트코스] 파이썬으로 시작하는 데이터 사이언스[3]\n",
    "\n",
    "**알고리즘 강의**\n",
    "- [부스트코스] 머신러닝을 위한 Python[4]\n",
    "\n",
    "[1]:https://github.com/corazzon/boostcourse-ds-511\n",
    "[2]:https://www.boostcourse.org/pythonforeverybody\n",
    "[3]:https://www.boostcourse.org/ds116\n",
    "[4]:https://www.boostcourse.org/ai222"
   ]
  },
  {
   "cell_type": "markdown",
   "id": "254357f1",
   "metadata": {},
   "source": [
    "## scikit-learn\n",
    "**파이썬의 대표적인 머신러닝 라이브러리**\n",
    "\n",
    "- **Classification(분류)** : 구매할지 안할지, 광고 클릭할지 안할지 구분할 수 있는 값으로 예측\n",
    "- **Regression(회귀)** : 물건을 구매한다면, 얼마를 구매할지 광고의 효율 측정을 특정 수치로 예측\n",
    "- Clustering\n",
    "- Dimensionality reduction\n",
    "- **Model selection**\n",
    "- **Preprocessing**"
   ]
  },
  {
   "cell_type": "markdown",
   "id": "6d203949",
   "metadata": {},
   "source": [
    "### Classification\n",
    "**Classifier**\n",
    "\n",
    "- input data와 알고리즘의 이름\n",
    "- 숫자로 정확도가 표기되어있으며, 숫자가 높을수록 정확하게 예측했다는 의미\n",
    "- 다양한 알고리즘을 조리도구라고 생각하고, 내부 조리도구의 매커니즘 보다 어떤 레시피를 만들 수 있는지에 초점을 맞춰 실습을 진행\n",
    "- 알고리즘마다 최적의 성능을 내는 인풋의 형태가 다름"
   ]
  },
  {
   "cell_type": "markdown",
   "id": "046efe96",
   "metadata": {},
   "source": [
    "### Regression\n",
    "**Regressor**\n",
    "- 그래프의 높고 낮음을 선으로 표시해놓음\n",
    "- 가격, 판매량, 매출액, 매출량, 재고량 등을 예측할 때, 회귀를 사용하여 예측하게 됨"
   ]
  },
  {
   "cell_type": "markdown",
   "id": "4f94bf5e",
   "metadata": {},
   "source": [
    "## Supervised learning(지도 학습)\n",
    "- 정답이 있는 값을 예측하는 것\n",
    "- 정답이 있는 dataset\n",
    "- 얼마나 잘 예측하는지 정답과 대조해보면서 성능 평가\n",
    "- 머신러닝은 Supervised 와 Unsupervised로 나뉨\n",
    "\n",
    "**<-> Unsupervised learning(비지도 학습)**\n",
    "\n",
    ": 정답이 없는 dataset 예측 (Clustering, Dimensionality reduction)"
   ]
  },
  {
   "cell_type": "markdown",
   "id": "31da8074",
   "metadata": {},
   "source": [
    "### Machine Learning\n",
    "- **분류** : 고객이 구매할지 안할지, 불량 여부, 대출 여부, 고객센터 문의 카테고리 분류 등\n",
    "- **회귀** : 재고량, 판매량, 매출액 예측 등\n",
    "- **군집화** : 고객의 군집 분석\n",
    "\n",
    "등 다양한 분석 방법론이 있지만\n",
    "class, regre, hyperparameter, evalu"
   ]
  },
  {
   "cell_type": "markdown",
   "id": "094a38b6",
   "metadata": {},
   "source": [
    "### Supervised Machine Learning\n",
    "**지도학습의 매커니즘**\n",
    "\n",
    "- Training (기출)\n",
    "    - Training Data\n",
    "    - Training Labels\n",
    "    - `Model`\n",
    "\n",
    "- Generalization (시험)\n",
    "    - Test Data\n",
    "    - `Prediction`\n",
    "\n",
    "- 채점\n",
    "    - Test Labels\n",
    "    - `Evaluation`"
   ]
  },
  {
   "cell_type": "markdown",
   "id": "3ec9e83b",
   "metadata": {},
   "source": [
    "## Tree\n",
    "**Tree 형태의 알고리즘**\n",
    "\n",
    "- Training (기출)\n",
    "    - `clf = RandomForestClassifier()`\n",
    "    - `clf.fit(X_train, y_train)`\n",
    "    - Training Data\n",
    "    - Training Labels\n",
    "    - `Model`\n",
    "\n",
    "- Generalization (시험)\n",
    "    - `y_pred = clf.predict(X_test)`\n",
    "    - Test Data\n",
    "    - `Prediction`\n",
    "\n",
    "- 채점\n",
    "    - `clf.score(X_test, y_test)`\n",
    "    - Test Labels\n",
    "    - `Evaluation`"
   ]
  },
  {
   "cell_type": "markdown",
   "id": "b31d7890",
   "metadata": {},
   "source": [
    "## Scikit-learn의 Basic API\n",
    "**estimator.fit(x, [y])**\n",
    "- estimator에 모델이 들어감(descision tree, random forest 등)\n",
    "- y값이 선택인 이유는 비지도 학습에는 y값이 없기 때문\n",
    "\n",
    "**estimator.predict**\n",
    "- Classification\n",
    "- Regression\n",
    "- Clustering\n",
    "\n",
    "**estimator.transform**\n",
    "- Preprocessing\n",
    "- Dimensionality reduction\n",
    "- Feature selection\n",
    "- Feature extraction"
   ]
  },
  {
   "cell_type": "markdown",
   "id": "34250f10",
   "metadata": {},
   "source": [
    "### 모델 검증\n",
    "**All Data**\n",
    "- Training Data\n",
    "- Test Data\n",
    "\n",
    "`Training Data`를 통해 학습한 모델을 `Test Data`를 통해 검증하는데, 모델이 얼마나 잘 `Fit`을 했는지 보기 위해 `Cross Validation`을 하여 `Data`를 나눠주게 된다.\n",
    "\n",
    "**예:**\n",
    "\n",
    "`All Data`를 5개로 나누고 이를 `Fold`라고 한다.\n",
    "`Fold1, Fold2, Fold3, Fold4, Fold5`\n",
    "그리고, 이렇게 `Fold`를 나눠준 수만큼 `Fit`을 한다. \n",
    "이때, 각 `Fold`가 하나씩 돌아가면서 `Test Data`의 역할을 하고, 나머지가 `Training Data`의 역할을 하게 된다.\n",
    "`Split1, Split2, Split3, Split4, Split5`\n",
    "**각 `Fold`마다 점수를 평균을 내고, 가장 좋은 점수를 낸 모델을 채택하고, 최적의 파라미터를 얻는다.**\n",
    "\n",
    "**예:**\n",
    "\n",
    "`clf = SVC()`\n",
    "`clf.fit(X_train, y_train)`\n",
    "`y_pred = clf.predict(X_test)`\n",
    "-> `SVC()` 안에 여러가지 파라미터값이 들어가는데, 어떤 파라미터가 들어가면 좋을지 하나하나 테스트하기가 어려움.\n",
    "-> 그렇기 때문에 `Cross Validation`을 통해 여러번 학습하여, **파라미터 값을 찾는 것**"
   ]
  },
  {
   "cell_type": "markdown",
   "id": "cc7e0d0f",
   "metadata": {},
   "source": [
    "### Grid Search\n",
    "**모델을 만드는 것**\n",
    "- Training Labels와 Training Data을 넣어서 모델을 만듬\n",
    "\n",
    "**Feature Engineering**\n",
    "- 모델의 Feature를 추출하고, 스케일링하는 작업\n",
    "\n",
    "**Feature Selection**\n",
    "- 위의 과정에서 정제한 Feature를 얻음\n",
    "\n",
    "**이를 Model에 넣고, Cross Validation 하는 것**"
   ]
  },
  {
   "cell_type": "markdown",
   "id": "9f8f8344",
   "metadata": {},
   "source": [
    "### Overfitting and Underfitting\n",
    "당연하게도 학습을 적게 하면 그만큼 정확도도 낮다.\n",
    "\n",
    "**학습을 적게 하여 정확도가 낮은 상태를 Underfitting 이라고 한다.**\n",
    "\n",
    "그렇다고 학습을 많이 하면 많이 할수록 무한하게 정확도를 올릴 수 있는 것은 아니다.\n",
    "\n",
    "Train 데이터 학습을 많이 하면 할수록 Train 데이터에 대한 정확도는 올라가지만 Test 데이터에 대한 **정확도는 올라가다가 어느 수준에 다다르면 그 이후부터는 오히려 감소하는 경향이 나타난다.**\n",
    "\n",
    "**이를 Overfitting 되었다고 한다.**\n",
    "\n",
    "**Overfitting이 되기 전 모델이 최적의 성능을 보여주는 `Sweet spot`을 발굴하는 것이 매우 중요하다.**"
   ]
  },
  {
   "cell_type": "markdown",
   "id": "f2a56eac",
   "metadata": {},
   "source": [
    "### Parameter 찾기\n",
    "**Randomized Parameter Search**"
   ]
  },
  {
   "cell_type": "markdown",
   "id": "001b6d47",
   "metadata": {},
   "source": [
    "### Models\n",
    "**Linear Models** \n",
    "\n",
    "LogisticRegressionCV만 분류, 회귀가 가능하며 나머지는 회귀만 가능함\n",
    "- **LogisticRegressionCV**\n",
    "- RidgeCV\n",
    "- RidgeclassifierCV\n",
    "- LarsCV\n",
    "- ElasticNetCV\n",
    "\n",
    "**Feature Selection**\n",
    "- RFECV\n",
    "\n",
    "**Tree-Based models**\n",
    "\n",
    "모두 분류 회귀 가능\n",
    "- DecisiontreeCV\n",
    "- RandomForestclassifierCV\n",
    "- GradientBoostingClassifierCV"
   ]
  },
  {
   "cell_type": "markdown",
   "id": "d7b9bf36",
   "metadata": {},
   "source": [
    "### Scoring Function\n",
    "**학습한 모델에 채점하는 과정**\n",
    "- GridSeachCV\n",
    "- RandomizedSearchCV\n",
    "- cross_val_score \n",
    "\n",
    "Classification(Accuracy)\n",
    "\n",
    "Regression(R2)"
   ]
  }
 ],
 "metadata": {
  "kernelspec": {
   "display_name": "Python 3 (ipykernel)",
   "language": "python",
   "name": "python3"
  },
  "language_info": {
   "codemirror_mode": {
    "name": "ipython",
    "version": 3
   },
   "file_extension": ".py",
   "mimetype": "text/x-python",
   "name": "python",
   "nbconvert_exporter": "python",
   "pygments_lexer": "ipython3",
   "version": "3.9.13"
  },
  "toc": {
   "base_numbering": 1,
   "nav_menu": {},
   "number_sections": true,
   "sideBar": true,
   "skip_h1_title": false,
   "title_cell": "Table of Contents",
   "title_sidebar": "Contents",
   "toc_cell": false,
   "toc_position": {},
   "toc_section_display": true,
   "toc_window_display": true
  },
  "varInspector": {
   "cols": {
    "lenName": 16,
    "lenType": 16,
    "lenVar": 40
   },
   "kernels_config": {
    "python": {
     "delete_cmd_postfix": "",
     "delete_cmd_prefix": "del ",
     "library": "var_list.py",
     "varRefreshCmd": "print(var_dic_list())"
    },
    "r": {
     "delete_cmd_postfix": ") ",
     "delete_cmd_prefix": "rm(",
     "library": "var_list.r",
     "varRefreshCmd": "cat(var_dic_list()) "
    }
   },
   "types_to_exclude": [
    "module",
    "function",
    "builtin_function_or_method",
    "instance",
    "_Feature"
   ],
   "window_display": false
  }
 },
 "nbformat": 4,
 "nbformat_minor": 5
}
